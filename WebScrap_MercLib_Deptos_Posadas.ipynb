{
  "nbformat": 4,
  "nbformat_minor": 0,
  "metadata": {
    "colab": {
      "name": "WebScrap MercLib Deptos Posadas.ipynb",
      "provenance": [],
      "authorship_tag": "ABX9TyOCX76OxRjaPDu8TGgyuu34",
      "include_colab_link": true
    },
    "kernelspec": {
      "name": "python3",
      "display_name": "Python 3"
    },
    "language_info": {
      "name": "python"
    }
  },
  "cells": [
    {
      "cell_type": "markdown",
      "metadata": {
        "id": "view-in-github",
        "colab_type": "text"
      },
      "source": [
        "<a href=\"https://colab.research.google.com/github/Brunonicolas-creator/WebScraping/blob/main/WebScrap_MercLib_Deptos_Posadas.ipynb\" target=\"_parent\"><img src=\"https://colab.research.google.com/assets/colab-badge.svg\" alt=\"Open In Colab\"/></a>"
      ]
    },
    {
      "cell_type": "code",
      "source": [
        "#Instalo librerias\n",
        "!pip install requests\n",
        "!pip install BeautifulSoup"
      ],
      "metadata": {
        "id": "lyEdDy-ctRam"
      },
      "execution_count": null,
      "outputs": []
    },
    {
      "cell_type": "code",
      "source": [
        "#Las llamo\n",
        "import requests\n",
        "from bs4 import BeautifulSoup\n",
        "from lxml import etree\n",
        "import pandas as pd\n",
        "import numpy as np"
      ],
      "metadata": {
        "id": "jGHpTKUnULrT"
      },
      "execution_count": 66,
      "outputs": []
    },
    {
      "cell_type": "code",
      "source": [
        "#Pag Semilla\n",
        "r= requests.get('https://inmuebles.mercadolibre.com.ar/departamentos/venta/misiones/posadas/')"
      ],
      "metadata": {
        "id": "PodAWRQxWw4r"
      },
      "execution_count": 67,
      "outputs": []
    },
    {
      "cell_type": "code",
      "source": [
        "r.status_code"
      ],
      "metadata": {
        "id": "xi16Xpe_KnNc"
      },
      "execution_count": null,
      "outputs": []
    },
    {
      "cell_type": "code",
      "source": [
        "#Parseo con BS\n",
        "soup= BeautifulSoup(r.content,'html.parser')"
      ],
      "metadata": {
        "id": "yHRWadsJW4kq"
      },
      "execution_count": 69,
      "outputs": []
    },
    {
      "cell_type": "markdown",
      "source": [
        "**PARA SCRAPEAR SOLO LA PRIMERA PAGINA**"
      ],
      "metadata": {
        "id": "f5Yx06K9HvHd"
      }
    },
    {
      "cell_type": "code",
      "source": [
        "#Busco los titulos e inspecciono la clase\n",
        "titulos=soup.find_all('h2',attrs={\"class\":\"ui-search-item__title\"})\n",
        "#Solo quiero el texto\n",
        "titulos= [i.text for i in titulos]"
      ],
      "metadata": {
        "id": "cXyWWyH9YBm7"
      },
      "execution_count": 71,
      "outputs": []
    },
    {
      "cell_type": "code",
      "source": [
        "#Armo el arbol para llegar al simbolo del precio\n",
        "dom=etree.HTML(str(soup))\n",
        "simb_precios=dom.xpath('//li[@class=\"ui-search-layout__item\"]//div[@class=\"ui-search-result__wrapper\"]//div[@class=\"ui-search-item__group__element ui-search-price__part-without-link\"]//div[@class=\"ui-search-price ui-search-price--size-medium\"]//div[@class=\"ui-search-price__second-line\"]//span[@class=\"price-tag ui-search-price__part\"]//span[@class=\"price-tag-symbol\"]')\n",
        "#Solo quiero el texto\n",
        "simb_precios=[i.text for i in simb_precios]"
      ],
      "metadata": {
        "id": "Mk_Nz3Hhu-6r"
      },
      "execution_count": 72,
      "outputs": []
    },
    {
      "cell_type": "code",
      "source": [
        "#Armo el arbol para llegar al precio\n",
        "dom=etree.HTML(str(soup))\n",
        "precios=dom.xpath('//li[@class=\"ui-search-layout__item\"]//div[@class=\"ui-search-result__wrapper\"]//div[@class=\"ui-search-item__group__element ui-search-price__part-without-link\"]//div[@class=\"ui-search-price ui-search-price--size-medium\"]//div[@class=\"ui-search-price__second-line\"]//span[@class=\"price-tag ui-search-price__part\"]//span[@class=\"price-tag-fraction\"]')\n",
        "#Solo quiero el texto\n",
        "precios=[i.text for i in precios]"
      ],
      "metadata": {
        "id": "jZWBUu8ElU6v"
      },
      "execution_count": 73,
      "outputs": []
    },
    {
      "cell_type": "code",
      "source": [
        "#Armo el arbol para llegar a caract\n",
        "dom=etree.HTML(str(soup))\n",
        "carac=dom.xpath('//div[@class=\"ui-search-result__content-wrapper\"]//div[@class=\"ui-search-item__group ui-search-item__group--attributes\"]//ul[@class=\"ui-search-card-attributes ui-search-item__group__element\"]//li[@class=\"ui-search-card-attributes__attribute\"]')\n",
        "#Solo quiero el texto\n",
        "carac=[i.text for i in carac[0:96:2]]\n"
      ],
      "metadata": {
        "id": "fG_FndzGvaHI"
      },
      "execution_count": 74,
      "outputs": []
    },
    {
      "cell_type": "code",
      "source": [
        "#Convierto en un DataFrame\n",
        "df=pd.DataFrame({\"titulo\":titulos,\"simbolo\":simb_precios,\"precios\":precios,\"carac\":carac})"
      ],
      "metadata": {
        "id": "kbFxltl_v_Vs"
      },
      "execution_count": 75,
      "outputs": []
    },
    {
      "cell_type": "code",
      "source": [
        "#Elimino caracteres en columna carac, para que solo me queden mts2\n",
        "df[\"carac\"] = df[\"carac\"].replace({'cubiertos':''}, regex=True)\n",
        "df[\"carac\"]=df[\"carac\"].replace({'totales':''}, regex=True)\n",
        "df[\"carac\"]=df[\"carac\"].replace({'m²':''}, regex=True)"
      ],
      "metadata": {
        "id": "33AhHhQdpnmk"
      },
      "execution_count": 76,
      "outputs": []
    },
    {
      "cell_type": "code",
      "source": [
        "#Exportar a csv\n",
        "df.to_csv('deptosposadas.csv')\n",
        "from google.colab import files \n",
        "files.download('deptosposadas.csv')"
      ],
      "metadata": {
        "id": "8VcaIniZAvUU"
      },
      "execution_count": null,
      "outputs": []
    },
    {
      "cell_type": "markdown",
      "source": [
        "**PARA SCRAPEAR DE FORMA HORIZONTAL**"
      ],
      "metadata": {
        "id": "1iPWZqmhH6l6"
      }
    },
    {
      "cell_type": "code",
      "source": [
        "#Boton de siguiente\n",
        "siguiente=dom.xpath('//div[@class=\"ui-search-pagination\"]/ul/li[contains(@class,\"--next\")]/a')[0].get('href')\n",
        "siguiente"
      ],
      "metadata": {
        "id": "u1oY8KV_C6ky"
      },
      "execution_count": null,
      "outputs": []
    },
    {
      "cell_type": "code",
      "source": [
        "#Boton inicial (pagina 1)\n",
        "ini= soup.find('span',attrs={\"class\":\"andes-pagination__link\"}).text\n",
        "#Lo paso a un entero\n",
        "ini= int(ini)\n",
        "ini\n"
      ],
      "metadata": {
        "id": "SO4Q6JoCEdno"
      },
      "execution_count": null,
      "outputs": []
    },
    {
      "cell_type": "code",
      "source": [
        "#Traigo las otras paginas\n",
        "can=soup.find('li',attrs={\"class\":\"andes-pagination__page-count\"})\n",
        "can=int(can.text.split(\" \")[1])\n",
        "can"
      ],
      "metadata": {
        "id": "WhjnB1FjFElR"
      },
      "execution_count": null,
      "outputs": []
    },
    {
      "cell_type": "code",
      "source": [
        "#Armo una lista de cada seccion\n",
        "lista_titulos=[]\n",
        "lista_simb_precios=[]\n",
        "lista_precios=[]\n",
        "lista_carac=[]\n"
      ],
      "metadata": {
        "id": "y4a7p4oXHKQh"
      },
      "execution_count": 80,
      "outputs": []
    },
    {
      "cell_type": "code",
      "source": [
        "#Funcion completa\n",
        "siguiente='https://inmuebles.mercadolibre.com.ar/departamentos/venta/misiones/posadas/'\n",
        "while True:\n",
        "    r = requests.get(siguiente)\n",
        "    if r.status_code==200:\n",
        "        soup= BeautifulSoup(r.content,'html.parser')\n",
        "        #Titulos\n",
        "        titulos=soup.find_all('h2',attrs={\"class\":\"ui-search-item__title\"})\n",
        "        titulos= [i.text for i in titulos]\n",
        "        lista_titulos.extend(titulos)\n",
        "        #Simbolo\n",
        "        dom=etree.HTML(str(soup))\n",
        "        simb_precios=dom.xpath('//li[@class=\"ui-search-layout__item\"]//div[@class=\"ui-search-result__wrapper\"]//div[@class=\"ui-search-item__group__element ui-search-price__part-without-link\"]//div[@class=\"ui-search-price ui-search-price--size-medium\"]//div[@class=\"ui-search-price__second-line\"]//span[@class=\"price-tag ui-search-price__part\"]//span[@class=\"price-tag-symbol\"]')\n",
        "        simb_precios=[i.text for i in simb_precios]\n",
        "        lista_simb_precios.extend(simb_precios)\n",
        "        #Precios\n",
        "        dom=etree.HTML(str(soup))\n",
        "        precios=dom.xpath('//li[@class=\"ui-search-layout__item\"]//div[@class=\"ui-search-result__wrapper\"]//div[@class=\"ui-search-item__group__element ui-search-price__part-without-link\"]//div[@class=\"ui-search-price ui-search-price--size-medium\"]//div[@class=\"ui-search-price__second-line\"]//span[@class=\"price-tag ui-search-price__part\"]//span[@class=\"price-tag-fraction\"]')\n",
        "        precios=[i.text for i in precios]\n",
        "        lista_precios.extend(precios)\n",
        "        #Carac\n",
        "        dom=etree.HTML(str(soup))\n",
        "        carac=dom.xpath('//div[@class=\"ui-search-result__content-wrapper\"]//div[@class=\"ui-search-item__group ui-search-item__group--attributes\"]//ul[@class=\"ui-search-card-attributes ui-search-item__group__element\"]//li[@class=\"ui-search-card-attributes__attribute\"]')  \n",
        "        carac=[i.text for i in carac[0:96:2]]\n",
        "        lista_carac.extend(carac)\n",
        "        ini= soup.find('span',attrs={\"class\":\"andes-pagination__link\"}).text\n",
        "        ini= int(ini)\n",
        "        can=soup.find('li',attrs={\"class\":\"andes-pagination__page-count\"})\n",
        "        can=int(can.text.split(\" \")[1])\n",
        "    else:\n",
        "        break\n",
        "    print(ini,can)\n",
        "    if ini==can:\n",
        "        break\n",
        "    siguiente=dom.xpath('//div[@class=\"ui-search-pagination\"]/ul/li[contains(@class,\"--next\")]/a')[0].get('href')"
      ],
      "metadata": {
        "id": "z6ktdOs3Fs3R"
      },
      "execution_count": null,
      "outputs": []
    },
    {
      "cell_type": "code",
      "source": [
        "#Veo que tenga la misma cantidad de len para llevarlo a un DF\n",
        "print(len(lista_precios))\n",
        "print(len(lista_simb_precios))\n",
        "print(len(lista_carac))\n",
        "print(len(lista_titulos))"
      ],
      "metadata": {
        "colab": {
          "base_uri": "https://localhost:8080/"
        },
        "id": "B-c9nPmmEUGS",
        "outputId": "462fb5ff-fff1-4c4f-c055-132abec57620"
      },
      "execution_count": 82,
      "outputs": [
        {
          "output_type": "stream",
          "name": "stdout",
          "text": [
            "195\n",
            "195\n",
            "195\n",
            "195\n"
          ]
        }
      ]
    },
    {
      "cell_type": "code",
      "source": [
        "#Transformo en un DataFrame\n",
        "df=pd.DataFrame({\"titulo\":lista_titulos,\"simbolo\":lista_simb_precios,\"precios\":lista_precios,\"carac\":lista_carac})"
      ],
      "metadata": {
        "id": "ExH9tQQSNTj9"
      },
      "execution_count": 84,
      "outputs": []
    },
    {
      "cell_type": "code",
      "source": [
        "#Elimino caracteres en columna carac, para que solo me queden mts2\n",
        "df[\"carac\"] = df[\"carac\"].replace({'cubiertos':''}, regex=True)\n",
        "df[\"carac\"]=df[\"carac\"].replace({'totales':''}, regex=True)\n",
        "df[\"carac\"]=df[\"carac\"].replace({'m²':''}, regex=True)"
      ],
      "metadata": {
        "id": "Mu352K8rHcFy"
      },
      "execution_count": 85,
      "outputs": []
    },
    {
      "cell_type": "code",
      "source": [
        "#Exportar a csv\n",
        "df.to_csv('deptosposadas.csv')\n",
        "from google.colab import files \n",
        "files.download('deptosposadas.csv')"
      ],
      "metadata": {
        "colab": {
          "base_uri": "https://localhost:8080/",
          "height": 17
        },
        "id": "JeTp4drfNsVo",
        "outputId": "f18aae1a-cda5-4d9e-dda8-f35c17f4041c"
      },
      "execution_count": 86,
      "outputs": [
        {
          "output_type": "display_data",
          "data": {
            "text/plain": [
              "<IPython.core.display.Javascript object>"
            ],
            "application/javascript": [
              "\n",
              "    async function download(id, filename, size) {\n",
              "      if (!google.colab.kernel.accessAllowed) {\n",
              "        return;\n",
              "      }\n",
              "      const div = document.createElement('div');\n",
              "      const label = document.createElement('label');\n",
              "      label.textContent = `Downloading \"${filename}\": `;\n",
              "      div.appendChild(label);\n",
              "      const progress = document.createElement('progress');\n",
              "      progress.max = size;\n",
              "      div.appendChild(progress);\n",
              "      document.body.appendChild(div);\n",
              "\n",
              "      const buffers = [];\n",
              "      let downloaded = 0;\n",
              "\n",
              "      const channel = await google.colab.kernel.comms.open(id);\n",
              "      // Send a message to notify the kernel that we're ready.\n",
              "      channel.send({})\n",
              "\n",
              "      for await (const message of channel.messages) {\n",
              "        // Send a message to notify the kernel that we're ready.\n",
              "        channel.send({})\n",
              "        if (message.buffers) {\n",
              "          for (const buffer of message.buffers) {\n",
              "            buffers.push(buffer);\n",
              "            downloaded += buffer.byteLength;\n",
              "            progress.value = downloaded;\n",
              "          }\n",
              "        }\n",
              "      }\n",
              "      const blob = new Blob(buffers, {type: 'application/binary'});\n",
              "      const a = document.createElement('a');\n",
              "      a.href = window.URL.createObjectURL(blob);\n",
              "      a.download = filename;\n",
              "      div.appendChild(a);\n",
              "      a.click();\n",
              "      div.remove();\n",
              "    }\n",
              "  "
            ]
          },
          "metadata": {}
        },
        {
          "output_type": "display_data",
          "data": {
            "text/plain": [
              "<IPython.core.display.Javascript object>"
            ],
            "application/javascript": [
              "download(\"download_2010f9d6-9ac0-4f10-abb0-5e886375e689\", \"deptosposadas.csv\", 13084)"
            ]
          },
          "metadata": {}
        }
      ]
    }
  ]
}